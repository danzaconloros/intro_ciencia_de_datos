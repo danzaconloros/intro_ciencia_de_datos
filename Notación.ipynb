{
 "cells": [
  {
   "cell_type": "markdown",
   "metadata": {},
   "source": [
    "# Notación matemática utilizada a lo largo del curso"
   ]
  },
  {
   "cell_type": "markdown",
   "metadata": {},
   "source": [
    "$\\mathbb{R}$ números reales\n",
    "\n",
    "$\\propto$ proporcional a\n",
    "\n",
    "$\\triangleq$ definido como\n",
    "\n",
    "$\\approx$ aproximadamente igual a\n",
    "\n",
    "$\\sim$ distribuido como\n",
    "\n",
    "$\\forall x$ para todo los $x$ es cierto que...\n",
    "\n",
    "$A \\subseteq S$ $A$ es un subconjunto de $S$\n",
    "\n",
    "$\\neg A$ no A, si $A$ es el conjunto de los números pares entonces $\\neg A$ es el conjunto de los impares\n",
    "\n",
    "$ x \\in S$ x es un elemento de S\n",
    "\n",
    "$\\bigcup _{i=a}^{b}$ la unión de todos los $i$ elementos desde $a$ a $b$\n",
    "\n",
    "$\\mathbb{E}[\\cdot]$ valor esperado\n",
    "\n",
    "$p(\\cdot)$ densidad de probabilidad o función de masa\n",
    "\n",
    "$p(x \\mid y)$ (densidad de) probabilidad de $x$ dado $y$\n",
    "\n",
    "$\\ell(\\cdot)$ logaritmo natural del likelihood (log-likelihood)\n",
    "\n",
    "$\\mu$ media de una distribucion univariada\n",
    "\n",
    "$\\boldsymbol{\\mu}$ media de una distribucion multi-variada\n",
    "\n",
    "$\\sigma^2$ varianza\n",
    "\n",
    "$Var[\\mathbf{x}]$ varianza de $\\mathbf{x}$\n",
    "\n",
    "$\\Sigma$ matriz de co-varianza\n",
    "\n",
    "$\\mathbb{KL}(p \\| q)$ divergencia de Kullback-Leibler de $p$ a $q$\n",
    "\n",
    "$\\boldsymbol{\\theta}$ vector de parámetros\n",
    "\n",
    "$\\hat{\\boldsymbol{\\theta}}$ estimación puntual de $\\boldsymbol{\\theta}$\n",
    "\n",
    "$\\hat{\\boldsymbol{\\theta}}_{ML}$ estimación puntual de $\\boldsymbol{\\theta}$ usando _maximum-likelihood_\n",
    "\n",
    "$\\hat{\\boldsymbol{\\theta}}_{MAP}$ estimación puntual de $\\boldsymbol{\\theta}$ usando _maximum, a posteriori_\n",
    "\n",
    "$J(\\boldsymbol{\\theta})$ función de costo\n",
    "\n",
    "$q()$ distribución aproximada o de propuesta\n",
    "\n",
    "$k(x, y)$ función kernel\n",
    "\n",
    "$\\mathbf{K}$ matrix kernel\n",
    "\n",
    "$\\mathcal{D}$ datos, o datos de entranamiento\n",
    "\n",
    "$\\mathcal{D}_{test}$ datos de prueba\n",
    "\n",
    "$\\mathbf{A}^{-1}$ inversa de la matriz $\\mathbf{A}$\n",
    "\n",
    "det($\\mathbf{A}$) determinante de la matriz $\\mathbf{A}$\n",
    "\n",
    "$\\mathbf{A}^{T}$ transpuesta de la matriz $\\mathbf{A}$\n",
    "\n",
    "$||\\mathbf{x}||_2$ norma euclidea o $\\ell_2$\n",
    "\n",
    "\n",
    "Notas:\n",
    "\n",
    "* Se usa $\\log$ para indicar logaritmos y se asumen base $e$ (logaritmo natural) salvo se indique lo contrario.\n",
    "\n",
    "* Usamos letras romanas minúsculas en negrita para vectores ($\\mathbf{a}$) y letras romanas mayúsculas en negrita para matrices ($\\mathbf{A})$. Se asumen que los vectores son vectores columna, a menos que se indique lo contrario."
   ]
  },
  {
   "cell_type": "code",
   "execution_count": null,
   "metadata": {
    "collapsed": true
   },
   "outputs": [],
   "source": []
  }
 ],
 "metadata": {
  "kernelspec": {
   "display_name": "Python 3",
   "language": "python",
   "name": "python3"
  },
  "language_info": {
   "codemirror_mode": {
    "name": "ipython",
    "version": 3
   },
   "file_extension": ".py",
   "mimetype": "text/x-python",
   "name": "python",
   "nbconvert_exporter": "python",
   "pygments_lexer": "ipython3",
   "version": "3.6.2"
  }
 },
 "nbformat": 4,
 "nbformat_minor": 2
}
